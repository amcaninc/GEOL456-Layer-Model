{
 "cells": [
  {
   "cell_type": "markdown",
   "id": "b366da3b",
   "metadata": {},
   "source": [
    "<h1>GEOL456 Final Project - Layer Climate Model</h1>\n",
    "<h2>By Andrew McAninch - amcaninc</h2>\n",
    "<p> I decided to write code for climate models for my final project. The code consists of modifiable variables so you can play with the model and see what happens. It is programmed in Python and made in Jupyter Notebook, which is offered through the University through some classes and services through the ISAAC cluster. Alternatively, you can download Jupyter Notebook and run it from your own computer at jupyter.org </p>\n",
    "\n",
    "<p> To make sure things run smoothly, first run this first code block to import all necessary Python modules. You can run a code block by clicking on it and pressing the Run button at the top or pressing Shift+Enter on your keyboard.</p>"
   ]
  },
  {
   "cell_type": "code",
   "execution_count": 2,
   "id": "b5aac981",
   "metadata": {},
   "outputs": [],
   "source": [
    "# PYTHON MODULES - PLEASE RUN THIS FIRST\n",
    "from matplotlib import pyplot as plt\n",
    "%matplotlib inline\n",
    "import numpy as np\n",
    "from ipywidgets import interact, FloatSlider, IntSlider"
   ]
  },
  {
   "cell_type": "markdown",
   "id": "294a1429",
   "metadata": {},
   "source": [
    "<h2>The Bare Rock Model</h2>\n",
    "<p>The bare rock model is simple and straight forward. Modifiable parameters include the intensity of incoming radiation, albedo, and emissivity. Not a lot to show with the model, so included functions are temperature as a function of intensity, temperature as a function of albedo, and temperature as a function of emissivity. While not particularly enlightening, these graphs show how temperature changes as the corresponding variables increase. </p>\n",
    "\n",
    "Default parameters:<br>\n",
    "I = 1350 (W/m<sup>2</sup>), intensity of solar radiation<br>\n",
    "α = 0.3 (unitless), albedo, percent of light reflected)<br>\n",
    "σ = 5.67E-8</sup> (W/m<sup>2</sup>K<sup>4</sup>) Stefan-Boltzmann constantc <br>\n",
    "ε = 1 (unitless) emissivity, how well the blackbody absorbs radiation"
   ]
  },
  {
   "cell_type": "code",
   "execution_count": 3,
   "id": "eb9e8373",
   "metadata": {},
   "outputs": [
    {
     "data": {
      "application/vnd.jupyter.widget-view+json": {
       "model_id": "3052102aa08c481a8cf9697661fc87da",
       "version_major": 2,
       "version_minor": 0
      },
      "text/plain": [
       "interactive(children=(FloatSlider(value=0.3, description='α', max=1.0, step=0.01), FloatSlider(value=1.0, desc…"
      ]
     },
     "metadata": {},
     "output_type": "display_data"
    }
   ],
   "source": [
    "# TEMPERATURE AS FUNCTION OF INTENSITY OF SOLAR RADIATION\n",
    "\n",
    "# Given is an intensity range to plot over.\n",
    "I0 = 1000 # low intensity\n",
    "If = 1500 # high intensity\n",
    "I = np.linspace(I0, If, 100) # Gives a range to plot a function from. Format: (range low, range high, number of steps)\n",
    "σ = 5.67*10**-8 # Stefan-Boltzmann constant\n",
    "\n",
    "def temp_func_of_intensity(α, ε):\n",
    "    # Function\n",
    "    T = (I*(1-α)/(4*σ*ε))**0.25\n",
    "    \n",
    "    # Plotting\n",
    "    plt.plot(I, T, color = 'red')\n",
    "    plt.xlabel('Intensity (W/m^2)')\n",
    "    plt.ylabel('Temperature (K)')\n",
    "    plt.title('Temperature as a Function of Intensity of Solar Radiation')\n",
    "\n",
    "# Slider widgets\n",
    "i = interact(temp_func_of_intensity,\n",
    "             α = FloatSlider(min = 0, max = 1, step = 0.01, value = 0.3),\n",
    "             ε = FloatSlider(min = 0.01, max = 1, step = 0.01, value = 1))"
   ]
  },
  {
   "cell_type": "code",
   "execution_count": 4,
   "id": "d7f5a143",
   "metadata": {
    "scrolled": true
   },
   "outputs": [
    {
     "data": {
      "application/vnd.jupyter.widget-view+json": {
       "model_id": "3bbb1aca9ccc4cc092d22d6e1de6aade",
       "version_major": 2,
       "version_minor": 0
      },
      "text/plain": [
       "interactive(children=(FloatSlider(value=1350.0, description='I', max=10000.0, step=1.0), FloatSlider(value=1.0…"
      ]
     },
     "metadata": {},
     "output_type": "display_data"
    }
   ],
   "source": [
    "# TEMPERATURE AS FUNCTION OF ALBEDO\n",
    "\n",
    "# Given is an albedo range to plot over.\n",
    "α0 = 0 # low albedo\n",
    "αf = 1 # high albedo\n",
    "α = np.linspace(α0, αf, 100) # Gives a range to plot from. Format: (range low, range high, number of steps)\n",
    "σ = 5.67*10**-8 # Stefan-Boltzmann constant\n",
    "\n",
    "def temp_func_of_intensity(I, ε):\n",
    "    # Function\n",
    "    T = (I*(1-α)/(4*σ*ε))**0.25\n",
    "    \n",
    "    # Plotting\n",
    "    plt.plot(α, T, color = 'red')\n",
    "    plt.xlabel('Albedo')\n",
    "    plt.ylabel('Temperature (K)')\n",
    "    plt.title('Temperature as a Function of Albedo')\n",
    "\n",
    "# Slider widgets  \n",
    "i = interact(temp_func_of_intensity,\n",
    "             I = FloatSlider(min = 0, max = 10000, step = 1, value = 1350),\n",
    "             ε = FloatSlider(min = 0.01, max = 1, step = 0.01, value = 1))"
   ]
  },
  {
   "cell_type": "code",
   "execution_count": 5,
   "id": "3ee85482",
   "metadata": {},
   "outputs": [
    {
     "data": {
      "application/vnd.jupyter.widget-view+json": {
       "model_id": "9041bf2b2d104cf8a497d8810ae4a737",
       "version_major": 2,
       "version_minor": 0
      },
      "text/plain": [
       "interactive(children=(FloatSlider(value=1350.0, description='I', max=10000.0, step=1.0), FloatSlider(value=0.3…"
      ]
     },
     "metadata": {},
     "output_type": "display_data"
    }
   ],
   "source": [
    "# TEMPERATURE AS FUNCTION OF EMISSIVITY\n",
    "\n",
    "# Given is an intensity range to plot over.\n",
    "ε0 = 0.01 # low emissivity\n",
    "εf = 1 # high emissivity\n",
    "ε = np.linspace(ε0, εf, 100) # Gives a range to plot from. Format: (range low, range high, number of steps)\n",
    "σ = 5.67*10**-8 # Stefan-Boltzmann constant\n",
    "\n",
    "def temp_func_of_intensity(I, α):\n",
    "    # Function\n",
    "    T = (I*(1-α)/(4*σ*ε))**0.25\n",
    "    \n",
    "    # Plotting\n",
    "    plt.plot(ε, T, color = 'red')\n",
    "    plt.xlabel('Emissivity')\n",
    "    plt.ylabel('Temperature (K)')\n",
    "    plt.title('Temperature as a Function of Emissivity')\n",
    "\n",
    "# Slider widgets  \n",
    "i = interact(temp_func_of_intensity,\n",
    "             I = FloatSlider(min = 0, max = 10000, step = 1, value = 1350),\n",
    "             α = FloatSlider(min = 0, max = 1, step = 0.01, value = 0.3))"
   ]
  },
  {
   "cell_type": "markdown",
   "id": "23324c91",
   "metadata": {},
   "source": [
    "<p> This is all fairly simple, but gives a clear picture as to what is going on with the three variables, and how temperature acts with an increase or decrease in albedo, intensity, and emissivity. But what if we wanted to make it a little more complicated?"
   ]
  },
  {
   "cell_type": "markdown",
   "id": "3f4ff398",
   "metadata": {},
   "source": [
    "<h2>The Layer Model</h2>\n",
    "<p>The layer model gives us a little bit of a better picture of the atmosphere. It calculates the ground temperature from the atmospheric temperature. I generated the albedo plot as before, but this time allow for the addition of layers to the atmosphere. The shapes of the plots are the same, so adding more x-variables here isn't very interesting. However, I also added a plot of temperature as a function of the number of layers."
   ]
  },
  {
   "cell_type": "code",
   "execution_count": 6,
   "id": "ec7d7313",
   "metadata": {},
   "outputs": [
    {
     "data": {
      "application/vnd.jupyter.widget-view+json": {
       "model_id": "2747e3f9be52491cb6478f4dd0e4216a",
       "version_major": 2,
       "version_minor": 0
      },
      "text/plain": [
       "interactive(children=(FloatSlider(value=1350.0, description='I', max=10000.0, step=1.0), FloatSlider(value=1.0…"
      ]
     },
     "metadata": {},
     "output_type": "display_data"
    }
   ],
   "source": [
    "# TEMPERATURE AS FUNCTION OF ALBEDO\n",
    "\n",
    "# Given is an albedo range to plot over.\n",
    "α0 = 0 # low albedo\n",
    "αf = 1 # high albedo\n",
    "α = np.linspace(α0, αf, 100) # Gives a range to plot from. Format: (range low, range high, number of steps)\n",
    "σ = 5.67*10**-8 # Stefan-Boltzmann constant\n",
    "\n",
    "def temp_func_of_intensity(I, ε, Layers):\n",
    "    # Function\n",
    "    T = (I*(1-α)/(4*σ*ε))**0.25\n",
    "    if Layers == 0:\n",
    "        T_ground = T\n",
    "    else:\n",
    "        T_ground = ((1+Layers)**0.25)*T\n",
    "    \n",
    "    # Plotting\n",
    "    plt.plot(α, T_ground, color = 'red')\n",
    "    plt.xlabel('Intensity (W/m^2)')\n",
    "    plt.ylabel('Temperature (K)')\n",
    "    plt.title('Temperature as a Function of Albedo with Layers')\n",
    "\n",
    "# Slider widgets\n",
    "i = interact(temp_func_of_intensity,\n",
    "             Layers = IntSlider(min=0, max = 5, step = 1, value = 0),\n",
    "             I = FloatSlider(min = 0, max = 10000, step = 1, value = 1350),\n",
    "             ε = FloatSlider(min = 0.01, max = 1, step = 0.01, value = 1))"
   ]
  },
  {
   "cell_type": "code",
   "execution_count": 7,
   "id": "35146dd1",
   "metadata": {},
   "outputs": [
    {
     "data": {
      "application/vnd.jupyter.widget-view+json": {
       "model_id": "d654c12051054210ab6bcae9a1abe69c",
       "version_major": 2,
       "version_minor": 0
      },
      "text/plain": [
       "interactive(children=(FloatSlider(value=1350.0, description='I', max=10000.0, step=1.0), FloatSlider(value=0.3…"
      ]
     },
     "metadata": {},
     "output_type": "display_data"
    }
   ],
   "source": [
    "# TEMPERATURE AS FUNCTION OF NUMBER OF LAYERS\n",
    "\n",
    "# Given is an albedo range to plot over.\n",
    "Layers0 = 0\n",
    "Layersf = 5\n",
    "Layers = np.linspace(Layers0, Layersf, 6) # Gives a range to plot from. Format: (range low, range high, number of steps)\n",
    "σ = 5.67*10**-8 # Stefan-Boltzmann constant\n",
    "\n",
    "def temp_func_of_intensity(I, α, ε):\n",
    "    # Function\n",
    "    T = (I*(1-α)/(4*σ*ε))**0.25\n",
    "    T_at_layer0 = T # Temperature at Layers[0]\n",
    "    T_at_other_layers = ((1+Layers[1:])**0.25)*T # Temperature at the rest of the layers\n",
    "    T_ground = np.concatenate(([T_at_layer0], T_at_other_layers)) # Concatenating temperatures at layer0 and other layers\n",
    "    \n",
    "    # Plotting\n",
    "    plt.scatter(Layers, T_ground, color = 'red')\n",
    "    plt.xlabel('Layers')\n",
    "    plt.ylabel('Temperature (K)')\n",
    "    plt.title('Temperature as a Function of Number of Layers')\n",
    "\n",
    "# Slider widgets\n",
    "i = interact(temp_func_of_intensity,\n",
    "             I = FloatSlider(min = 0, max = 10000, step = 1, value = 1350),\n",
    "             α = FloatSlider(min = 0, max = 1, step = 0.01, value = 0.3),\n",
    "             ε = FloatSlider(min = 0.01, max = 1, step = 0.01, value = 1))"
   ]
  },
  {
   "cell_type": "markdown",
   "id": "b972776e",
   "metadata": {},
   "source": [
    "<p> It is clear that adding more layers makes the temperature increase dramatically. More than one layer is already absurd, as the average temperature of the surface of the Earth in reality is about 288 K. This result seems silly, but it is important to not think of this as a realistic model of the Earth. This is a simple model displaying what would happen if a bare rock had 5 layers of glass as an atmosphere. But why is this important?</p> <br>\n",
    "<p>We can draw simple conclusions by looking at a simple model. An excessive amount of atmosphere leads to an excessive amount of heating. This result can be applied to Earth. While our real atmosphere and planet are a lot more complicated than the ones shown here, the same principle applies. Too much atmosphere leads to heating.</p> <br>\n",
    "<p> The layer model is a simple way of showing the effects of greenhouse gas emission. The results shown are much more dramatic here, but the message is the same. More atmosphere leads to higher surface temperatures. This demonstrates the model's usefullness in providing a very simple explanation to global warming.</p>"
   ]
  }
 ],
 "metadata": {
  "kernelspec": {
   "display_name": "Python 3",
   "language": "python",
   "name": "python3"
  },
  "language_info": {
   "codemirror_mode": {
    "name": "ipython",
    "version": 3
   },
   "file_extension": ".py",
   "mimetype": "text/x-python",
   "name": "python",
   "nbconvert_exporter": "python",
   "pygments_lexer": "ipython3",
   "version": "3.8.8"
  }
 },
 "nbformat": 4,
 "nbformat_minor": 5
}
